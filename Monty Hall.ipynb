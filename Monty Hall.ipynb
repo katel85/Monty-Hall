{
 "cells": [
  {
   "cell_type": "markdown",
   "id": "4af2abfc-bcf3-43d7-bf23-d76948680a4f",
   "metadata": {},
   "source": [
    "# The Monty Hall Problem"
   ]
  },
  {
   "cell_type": "markdown",
   "id": "75101d80-4729-4a64-991e-7c6e094715cb",
   "metadata": {},
   "source": [
    "See the  website [Monty Python Problem](https://en.wikipedia.org/wiki/Monty_Hall_problem) for the summary of the problem."
   ]
  },
  {
   "cell_type": "markdown",
   "id": "6c8e4758-ad33-44c2-8e10-b024e560e3d1",
   "metadata": {},
   "source": [
    "## Random Door Selection"
   ]
  },
  {
   "cell_type": "markdown",
   "id": "59db7152-5435-45b7-9979-0eae5b36b9ce",
   "metadata": {},
   "source": [
    "Here is some code to pick a door at random.\n",
    "\n",
    "See [Real Python's Generating Random Date in Python](https://realpython.com/python-random/) for more information.\n"
   ]
  },
  {
   "cell_type": "code",
   "execution_count": 1,
   "id": "752afd26-2f0f-4ef8-af36-e73e5c2db8ff",
   "metadata": {},
   "outputs": [
    {
     "name": "stdout",
     "output_type": "stream",
     "text": [
      "blue\n"
     ]
    }
   ],
   "source": [
    "# Python provides a library called random to generate pseudo-random numbers and do stuff with them.\n",
    "import random\n",
    "\n",
    "# The three doors in a list.\n",
    "doors = ['red', 'green', 'blue']\n",
    "\n",
    "# Pick a random door.\n",
    "print(random.choice(doors))"
   ]
  },
  {
   "cell_type": "markdown",
   "id": "c8237919-b7e3-4211-838f-971bd1df9472",
   "metadata": {},
   "source": [
    "## Checking for randomness"
   ]
  },
  {
   "cell_type": "markdown",
   "id": "2ef10820-09cd-45ca-80eb-999640da8623",
   "metadata": {},
   "source": [
    "The pick is meant to give a one third probability to each door. Let's pick 10,000 doors are see if that looks correct."
   ]
  },
  {
   "cell_type": "code",
   "execution_count": 2,
   "id": "510dab6a-0bde-48a2-b165-b0575a3c6701",
   "metadata": {},
   "outputs": [
    {
     "name": "stdout",
     "output_type": "stream",
     "text": [
      "First ten items:  ['blue', 'red', 'green', 'blue', 'blue', 'blue', 'green', 'red', 'red', 'blue']\n",
      "Out of the 10000: 3391 were red, 3289 were green, and 3320 were blue.\n"
     ]
    }
   ],
   "source": [
    "# 10,000 random doors.\n",
    "no_doors = 10000\n",
    "tenthous = [random.choice(doors) for i in range(no_doors)]\n",
    "\n",
    "# Count the number of each colour.\n",
    "red = tenthous.count('red')\n",
    "blue = tenthous.count('blue')\n",
    "green = tenthous.count('green')\n",
    "\n",
    "print(\"First ten items: \", tenthous[:10])\n",
    "print(f\"Out of the {no_doors}: {red} were red, {green} were green, and {blue} were blue.\")"
   ]
  },
  {
   "cell_type": "markdown",
   "id": "695209db-eac7-46cb-a908-bc050d50b436",
   "metadata": {},
   "source": [
    "Let's plot it and see that each door is picked about a third of the time."
   ]
  },
  {
   "cell_type": "code",
   "execution_count": 3,
   "id": "e047c23e-30d6-40bf-88cd-32b0f315ae4c",
   "metadata": {},
   "outputs": [],
   "source": [
    "# We'll just use pyplot for plotting.\n",
    "import matplotlib.pyplot as plt\n",
    "# Change the way plots look.\n",
    "plt.style.use('seaborn')"
   ]
  },
  {
   "cell_type": "code",
   "execution_count": 4,
   "id": "71633b74-7700-49ef-88a1-1e6f088213c5",
   "metadata": {},
   "outputs": [
    {
     "data": {
      "image/png": "[encoded data removed]",
      "text/plain": [
       "<Figure size 864x288 with 1 Axes>"
      ]
     },
     "metadata": {},
     "output_type": "display_data"
    }
   ],
   "source": [
    "fig, ax = plt.subplots(figsize=(12,4))\n",
    "ax.barh(['Red', 'Green', 'Blue'], [red, green, blue], color=['#FC4F30', '#6D904F', '#008FD5']);"
   ]
  },
  {
   "cell_type": "markdown",
   "id": "7f7e9796-65db-4d9b-a68c-b74351c65edc",
   "metadata": {},
   "source": [
    "## Simulate a game "
   ]
  },
  {
   "cell_type": "markdown",
   "id": "06d3c4bb-6e21-49c4-bb3c-6c8782dc6a7d",
   "metadata": {},
   "source": [
    "Let's simulate the game now with the following steps:\n",
    "\n",
    "1. Pick a door to put the car behind.\n",
    "2. Have the contestant pick a door.\n",
    "3. Have the show host open one of the other doors to reveal a goat.\n",
    "4. Ask the contestant if they want to switch.\n",
    "5. Figure out whether or not the contestant wins.\n",
    "\n",
    "The question we're looking to answer is whether staying with your original pick makes a difference."
   ]
  },
  {
   "cell_type": "code",
   "execution_count": 5,
   "id": "b2cf513d-d248-4faf-8fe4-c8316b86b53f",
   "metadata": {},
   "outputs": [],
   "source": [
    "def simulate(stay=True):\n",
    "    \"\"\"A function to simulate a game and tell us if the contestant wins.\n",
    "       The contestant's strategy is to stay with their original choice\n",
    "       if the parameter stay is True, and otherwise they switch.\"\"\"\n",
    "    \n",
    "    # The three doors.\n",
    "    doors = ['red', 'green', 'blue']\n",
    "    \n",
    "    # 1. Pick a door to put the car behind.\n",
    "    car = random.choice(doors)\n",
    "    \n",
    "    # 2. Have the contestant pick a door.\n",
    "    pick = random.choice(doors)\n",
    "    \n",
    "    # 3. Have the show host open one of the other doors to reveal a goat.\n",
    "    canopen = [door for door in doors if door != car and door != pick]\n",
    "    show = random.choice(canopen)\n",
    "\n",
    "    # 4. Ask the contestant if they want to switch (specified by stay parameter).\n",
    "    if not stay:\n",
    "        # This is a bit hacky but gets the job done.\n",
    "        pick = [door for door in doors if door != pick and door != show][0]\n",
    "    \n",
    "    # 5. Figure out whether or not the contestant wins.\n",
    "    if pick == car:\n",
    "        return True\n",
    "    else:\n",
    "        return False"
   ]
  },
  {
   "cell_type": "markdown",
   "id": "b5ec4a95-c0d2-4d77-ad61-38890dadeda9",
   "metadata": {},
   "source": [
    "We can now simulate a game in which the contestant stays with their original pick by running the following.\n",
    "\n",
    "A return value of True means they won the car, False means they didn't."
   ]
  },
  {
   "cell_type": "code",
   "execution_count": 6,
   "id": "bb8f51a5-87b2-480f-bc13-0925c4d5d7b0",
   "metadata": {},
   "outputs": [
    {
     "data": {
      "text/plain": [
       "True"
      ]
     },
     "execution_count": 6,
     "metadata": {},
     "output_type": "execute_result"
    }
   ],
   "source": [
    "simulate(stay=True)"
   ]
  },
  {
   "cell_type": "markdown",
   "id": "40db4cb2-37ec-4ac5-853e-501d206922a6",
   "metadata": {},
   "source": [
    "### Simulate ten thousand games"
   ]
  },
  {
   "cell_type": "markdown",
   "id": "ccc91acf-2560-4252-8bd5-09f44334facf",
   "metadata": {},
   "source": [
    "Let's run the game 10,000 times where the contestant stays.\n",
    "\n",
    "We'll see how often they win."
   ]
  },
  {
   "cell_type": "code",
   "execution_count": 7,
   "id": "212a11c9-3599-44e2-8cd1-6418f27b9339",
   "metadata": {},
   "outputs": [],
   "source": [
    "staying = [simulate(stay=True) for i in range(10000)]"
   ]
  },
  {
   "cell_type": "markdown",
   "id": "aa9a885a-f080-40b2-8cf6-3804ef46e088",
   "metadata": {},
   "source": [
    "Plot the result of staying "
   ]
  },
  {
   "cell_type": "code",
   "execution_count": 8,
   "id": "32d478e6-3708-4541-838f-b4672afef1c6",
   "metadata": {},
   "outputs": [
    {
     "data": {
      "image/png": "[encoded data removed]",
      "text/plain": [
       "<Figure size 864x288 with 1 Axes>"
      ]
     },
     "metadata": {},
     "output_type": "display_data"
    }
   ],
   "source": [
    "fig, ax = plt.subplots(figsize=(12,4))\n",
    "ax.barh(['Win', 'Lose'], [staying.count(True), staying.count(False)], color=['#6D904F', '#FC4F30']);"
   ]
  },
  {
   "cell_type": "markdown",
   "id": "6eae0ec5-7f84-491d-8b07-e91d5da59c73",
   "metadata": {},
   "source": [
    "Looks like when the contestant stays, they win only about a third of the time.\n",
    "\n",
    "Let's run the game 10,000 times where the contestant switches.\n",
    "\n",
    "We'll see how often they win."
   ]
  },
  {
   "cell_type": "code",
   "execution_count": 9,
   "id": "b8a814f5-47bd-46c5-965a-3d2ad96dc286",
   "metadata": {},
   "outputs": [],
   "source": [
    "switching = [simulate(stay=False) for i in range(10000)]"
   ]
  },
  {
   "cell_type": "code",
   "execution_count": 10,
   "id": "b867996f-5eab-4614-b292-991ac01d5e2a",
   "metadata": {},
   "outputs": [
    {
     "data": {
      "image/png": "[encoded data removed]",
      "text/plain": [
       "<Figure size 864x288 with 1 Axes>"
      ]
     },
     "metadata": {},
     "output_type": "display_data"
    }
   ],
   "source": [
    "fig, ax = plt.subplots(figsize=(12,4))\n",
    "ax.barh(['Win', 'Lose'], [switching.count(True), switching.count(False)], color=['#6D904F', '#FC4F30']);"
   ]
  },
  {
   "cell_type": "markdown",
   "id": "b6dcff82-3691-42f0-ac8d-0ad26b70b4b0",
   "metadata": {},
   "source": [
    "Looks like you win two thirds of the time if you switch."
   ]
  },
  {
   "cell_type": "markdown",
   "id": "21759c57-4f14-4386-81c8-d330ce1b8147",
   "metadata": {},
   "source": [
    "## End"
   ]
  },
  {
   "cell_type": "code",
   "execution_count": null,
   "id": "4f29771b-fded-402b-aee6-801e6ba3531a",
   "metadata": {},
   "outputs": [],
   "source": []
  }
 ],
 "metadata": {
  "kernelspec": {
   "display_name": "Python 3",
   "language": "python",
   "name": "python3"
  },
  "language_info": {
   "codemirror_mode": {
    "name": "ipython",
    "version": 3
   },
   "file_extension": ".py",
   "mimetype": "text/x-python",
   "name": "python",
   "nbconvert_exporter": "python",
   "pygments_lexer": "ipython3",
   "version": "3.8.8"
  }
 },
 "nbformat": 4,
 "nbformat_minor": 5
}
